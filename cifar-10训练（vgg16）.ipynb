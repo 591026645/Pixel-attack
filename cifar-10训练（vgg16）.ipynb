{
 "cells": [
  {
   "cell_type": "code",
   "execution_count": 10,
   "id": "wireless-anxiety",
   "metadata": {},
   "outputs": [],
   "source": [
    "from keras.datasets import cifar10\n",
    "from keras.preprocessing.image import ImageDataGenerator\n",
    "from keras.models import Sequential,load_model, Model\n",
    "from keras.layers import Input, Dense, Dropout, Activation, Flatten\n",
    "from keras.layers import Conv2D, MaxPooling2D\n",
    "from keras.layers.noise import GaussianNoise\n",
    "from keras.layers.normalization import BatchNormalization\n",
    "import pandas as pd\n",
    "import matplotlib.pyplot as plt\n",
    "import time, pickle\n",
    "from keras.utils import to_categorical\n",
    "%matplotlib inline"
   ]
  },
  {
   "cell_type": "code",
   "execution_count": 12,
   "id": "hired-dream",
   "metadata": {},
   "outputs": [
    {
     "name": "stdout",
     "output_type": "stream",
     "text": [
      "x_train shape: (50000, 32, 32, 3)\n",
      "50000 training samples\n",
      "10000 validation samples\n"
     ]
    }
   ],
   "source": [
    "num_classes = 10\n",
    "class_name = {\n",
    "    0: 'airplane',\n",
    "    1: 'automobile',\n",
    "    2: 'bird',\n",
    "    3: 'cat',\n",
    "    4: 'deer',\n",
    "    5: 'dog',\n",
    "    6: 'frog',\n",
    "    7: 'horse',\n",
    "    8: 'ship',\n",
    "    9: 'truck',\n",
    "}\n",
    "(x_train,y_train),(x_test,y_test) = cifar10.load_data()\n",
    "y_train = y_train.reshape(y_train.shape[0])\n",
    "y_test = y_test.reshape(y_test.shape[0])\n",
    "\n",
    "print('x_train shape:', x_train.shape)\n",
    "print(x_train.shape[0], 'training samples')\n",
    "print(x_test.shape[0], 'validation samples')"
   ]
  },
  {
   "cell_type": "code",
   "execution_count": 3,
   "id": "divided-relations",
   "metadata": {},
   "outputs": [],
   "source": [
    "x_train = x_train.astype('float32')\n",
    "x_test = x_test.astype('float32')\n",
    "\n",
    "x_train /= 255\n",
    "x_test /= 255"
   ]
  },
  {
   "cell_type": "code",
   "execution_count": 4,
   "id": "durable-transparency",
   "metadata": {},
   "outputs": [],
   "source": [
    "y_train = to_categorical(y_train, nb_classes)\n",
    "y_test = to_categorical(y_test, nb_classes)"
   ]
  },
  {
   "cell_type": "code",
   "execution_count": 14,
   "id": "rocky-allocation",
   "metadata": {},
   "outputs": [
    {
     "name": "stdout",
     "output_type": "stream",
     "text": [
      "Model: \"vgg16-funcapi\"\n",
      "_________________________________________________________________\n",
      "Layer (type)                 Output Shape              Param #   \n",
      "=================================================================\n",
      "img_input (InputLayer)       [(None, 32, 32, 3)]       0         \n",
      "_________________________________________________________________\n",
      "block1_conv1 (Conv2D)        (None, 32, 32, 64)        1792      \n",
      "_________________________________________________________________\n",
      "block1_conv2 (Conv2D)        (None, 32, 32, 64)        36928     \n",
      "_________________________________________________________________\n",
      "block1_pool (MaxPooling2D)   (None, 16, 16, 64)        0         \n",
      "_________________________________________________________________\n",
      "block2_conv1 (Conv2D)        (None, 16, 16, 128)       73856     \n",
      "_________________________________________________________________\n",
      "block2_conv2 (Conv2D)        (None, 16, 16, 128)       147584    \n",
      "_________________________________________________________________\n",
      "block2_pool (MaxPooling2D)   (None, 8, 8, 128)         0         \n",
      "_________________________________________________________________\n",
      "block3_conv1 (Conv2D)        (None, 8, 8, 256)         295168    \n",
      "_________________________________________________________________\n",
      "block3_conv2 (Conv2D)        (None, 8, 8, 256)         590080    \n",
      "_________________________________________________________________\n",
      "block3_conv3 (Conv2D)        (None, 8, 8, 256)         590080    \n",
      "_________________________________________________________________\n",
      "block3_pool (MaxPooling2D)   (None, 4, 4, 256)         0         \n",
      "_________________________________________________________________\n",
      "block4_conv1 (Conv2D)        (None, 4, 4, 512)         1180160   \n",
      "_________________________________________________________________\n",
      "block4_conv2 (Conv2D)        (None, 4, 4, 512)         2359808   \n",
      "_________________________________________________________________\n",
      "block4_conv3 (Conv2D)        (None, 4, 4, 512)         2359808   \n",
      "_________________________________________________________________\n",
      "block4_pool (MaxPooling2D)   (None, 2, 2, 512)         0         \n",
      "_________________________________________________________________\n",
      "block5_conv1 (Conv2D)        (None, 2, 2, 512)         2359808   \n",
      "_________________________________________________________________\n",
      "block5_conv2 (Conv2D)        (None, 2, 2, 512)         2359808   \n",
      "_________________________________________________________________\n",
      "block5_conv3 (Conv2D)        (None, 2, 2, 512)         2359808   \n",
      "_________________________________________________________________\n",
      "block5_pool (MaxPooling2D)   (None, 1, 1, 512)         0         \n",
      "_________________________________________________________________\n",
      "flatten (Flatten)            (None, 512)               0         \n",
      "_________________________________________________________________\n",
      "fc1 (Dense)                  (None, 4096)              2101248   \n",
      "_________________________________________________________________\n",
      "fc2 (Dense)                  (None, 4096)              16781312  \n",
      "_________________________________________________________________\n",
      "predictions (Dense)          (None, 10)                40970     \n",
      "=================================================================\n",
      "Total params: 33,638,218\n",
      "Trainable params: 33,638,218\n",
      "Non-trainable params: 0\n",
      "_________________________________________________________________\n"
     ]
    }
   ],
   "source": [
    "# 定義輸入\n",
    "input_shape = (32, 32, 3) # RGB影像224x224 (height, width, channel)\n",
    "\n",
    "# 輸入層\n",
    "img_input = Input(shape=input_shape, name='img_input')\n",
    "\n",
    "# 第1個卷積區塊 (block1)\n",
    "x = Conv2D(64, (3, 3), padding='same', activation='relu', name='block1_conv1',kernel_initializer='he_normal')(img_input)\n",
    "x = Conv2D(64, (3, 3), padding='same', activation='relu', name='block1_conv2',kernel_initializer='he_normal')(x)\n",
    "x = MaxPool2D((2, 2), strides=(2, 2), name='block1_pool')(x)\n",
    "\n",
    "# 第2個卷積區塊 (block2)\n",
    "x = Conv2D(128, (3, 3), padding='same', activation='relu', name='block2_conv1',kernel_initializer='he_normal')(x)\n",
    "x = Conv2D(128, (3, 3), padding='same', activation='relu', name='block2_conv2',kernel_initializer='he_normal')(x)\n",
    "x = MaxPool2D((2, 2), strides=(2, 2), name='block2_pool')(x)\n",
    "\n",
    "# 第3個卷積區塊 (block3)\n",
    "x = Conv2D(256, (3, 3), padding='same', activation='relu', name='block3_conv1',kernel_initializer='he_normal')(x)\n",
    "x = Conv2D(256, (3, 3), padding='same', activation='relu', name='block3_conv2',kernel_initializer='he_normal')(x)\n",
    "x = Conv2D(256, (3, 3), padding='same', activation='relu', name='block3_conv3',kernel_initializer='he_normal')(x)\n",
    "x = MaxPool2D((2, 2), strides=(2, 2), name='block3_pool')(x)\n",
    "\n",
    "# 第4個卷積區塊 (block4)\n",
    "x = Conv2D(512, (3, 3), padding='same', activation='relu', name='block4_conv1',kernel_initializer='he_normal')(x)\n",
    "x = Conv2D(512, (3, 3), padding='same', activation='relu', name='block4_conv2',kernel_initializer='he_normal')(x)\n",
    "x = Conv2D(512, (3, 3), padding='same', activation='relu', name='block4_conv3',kernel_initializer='he_normal')(x)\n",
    "x = MaxPool2D((2, 2), strides=(2, 2), name='block4_pool')(x)\n",
    "\n",
    "# 第5個卷積區塊 (block5)\n",
    "x = Conv2D(512, (3, 3), padding='same', activation='relu', name='block5_conv1',kernel_initializer='he_normal')(x)\n",
    "x = Conv2D(512, (3, 3), padding='same', activation='relu', name='block5_conv2',kernel_initializer='he_normal')(x)\n",
    "x = Conv2D(512, (3, 3), padding='same', activation='relu', name='block5_conv3',kernel_initializer='he_normal')(x)\n",
    "x = MaxPool2D((2, 2), strides=(2, 2), name='block5_pool')(x)\n",
    "\n",
    "# 前饋全連接區塊\n",
    "x = Flatten(name='flatten')(x)\n",
    "x = Dense(4096, activation='relu', name='fc1',kernel_initializer='he_normal')(x)\n",
    "x = Dense(4096, activation='relu', name='fc2',kernel_initializer='he_normal')(x)\n",
    "x = Dense(10, activation='softmax', name='predictions',kernel_initializer='he_normal')(x)\n",
    "\n",
    "# 產生模型\n",
    "model = Model(inputs=img_input, outputs=x, name='vgg16-funcapi')\n",
    "\n",
    "# 打印網絡結構\n",
    "model.summary()"
   ]
  },
  {
   "cell_type": "code",
   "execution_count": null,
   "id": "patent-timing",
   "metadata": {},
   "outputs": [],
   "source": [
    "nb_epoch = 100\n",
    "batch_size = 256\n",
    "start = time.time()\n",
    "h = model1.fit(x_train, y_train, batch_size=batch_size, epochs=nb_epoch, validation_data=(x_test, y_test), shuffle=True)\n",
    "model1.save('CIFAR10_model_no_data_augmentation.h5')\n",
    "print('@ Total Time Spent: %.2f seconds' % (time.time() - start))"
   ]
  }
 ],
 "metadata": {
  "kernelspec": {
   "display_name": "Python 3",
   "language": "python",
   "name": "python3"
  },
  "language_info": {
   "codemirror_mode": {
    "name": "ipython",
    "version": 3
   },
   "file_extension": ".py",
   "mimetype": "text/x-python",
   "name": "python",
   "nbconvert_exporter": "python",
   "pygments_lexer": "ipython3",
   "version": "3.8.8"
  }
 },
 "nbformat": 4,
 "nbformat_minor": 5
}
