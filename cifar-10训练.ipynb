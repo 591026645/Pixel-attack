{
 "cells": [
  {
   "cell_type": "code",
   "execution_count": 1,
   "id": "british-distinction",
   "metadata": {},
   "outputs": [],
   "source": [
    "from __future__ import print_function\n",
    "import keras\n",
    "from keras.datasets import cifar10\n",
    "from keras.preprocessing.image import ImageDataGenerator\n",
    "from keras.models import Sequential\n",
    "from keras.layers import Dense, Dropout, Activation, Flatten\n",
    "from keras.layers import Conv2D, MaxPooling2D\n",
    "import os"
   ]
  },
  {
   "cell_type": "code",
   "execution_count": 2,
   "id": "fifteen-translator",
   "metadata": {},
   "outputs": [],
   "source": [
    "batch_size = 32\n",
    "num_classes = 10\n",
    "epochs = 50\n",
    "data_augmentation = True\n",
    "num_predictions = 20\n",
    "save_dir = os.path.join(os.getcwd(), 'saved_models')\n",
    "model_name = 'keras_cifar10_trained_model.h5'"
   ]
  },
  {
   "cell_type": "code",
   "execution_count": 3,
   "id": "prime-bullet",
   "metadata": {},
   "outputs": [
    {
     "name": "stdout",
     "output_type": "stream",
     "text": [
      "x_train shape: (50000, 32, 32, 3)\n",
      "50000 train samples\n",
      "10000 test samples\n"
     ]
    }
   ],
   "source": [
    "# 数据，切分为训练和测试集。\n",
    "(x_train, y_train), (x_test, y_test) = cifar10.load_data()\n",
    "print('x_train shape:', x_train.shape)\n",
    "print(x_train.shape[0], 'train samples')\n",
    "print(x_test.shape[0], 'test samples')"
   ]
  },
  {
   "cell_type": "code",
   "execution_count": 4,
   "id": "rough-reporter",
   "metadata": {},
   "outputs": [],
   "source": [
    "# 将类向量转换为二进制类矩阵。\n",
    "y_train = keras.utils.to_categorical(y_train, num_classes)\n",
    "y_test = keras.utils.to_categorical(y_test, num_classes)"
   ]
  },
  {
   "cell_type": "code",
   "execution_count": 5,
   "id": "upset-convenience",
   "metadata": {},
   "outputs": [],
   "source": [
    "model = Sequential()\n",
    "model.add(Conv2D(32, (3, 3), padding='same',\n",
    "                 input_shape=x_train.shape[1:]))\n",
    "model.add(Activation('relu'))\n",
    "model.add(Conv2D(32, (3, 3)))\n",
    "model.add(Activation('relu'))\n",
    "model.add(MaxPooling2D(pool_size=(2, 2)))\n",
    "model.add(Dropout(0.25))\n",
    "\n",
    "model.add(Conv2D(64, (3, 3), padding='same'))\n",
    "model.add(Activation('relu'))\n",
    "model.add(Conv2D(64, (3, 3)))\n",
    "model.add(Activation('relu'))\n",
    "model.add(MaxPooling2D(pool_size=(2, 2)))\n",
    "model.add(Dropout(0.25))\n",
    "\n",
    "model.add(Flatten())\n",
    "model.add(Dense(512))\n",
    "model.add(Activation('relu'))\n",
    "model.add(Dropout(0.5))\n",
    "model.add(Dense(num_classes))\n",
    "model.add(Activation('softmax'))"
   ]
  },
  {
   "cell_type": "code",
   "execution_count": 6,
   "id": "burning-avenue",
   "metadata": {},
   "outputs": [],
   "source": [
    "# 初始化 RMSprop 优化器。\n",
    "opt = keras.optimizers.RMSprop(lr=0.0001, decay=1e-6)"
   ]
  },
  {
   "cell_type": "code",
   "execution_count": 7,
   "id": "worth-finder",
   "metadata": {},
   "outputs": [],
   "source": [
    "# 利用 RMSprop 来训练模型。\n",
    "model.compile(loss='categorical_crossentropy',\n",
    "              optimizer=opt,\n",
    "              metrics=['accuracy'])"
   ]
  },
  {
   "cell_type": "code",
   "execution_count": 8,
   "id": "headed-society",
   "metadata": {},
   "outputs": [],
   "source": [
    "x_train = x_train.astype('float32')\n",
    "x_test = x_test.astype(' ')\n",
    "x_train /= 255\n",
    "x_test /= 255"
   ]
  },
  {
   "cell_type": "code",
   "execution_count": 9,
   "id": "fifty-terrorism",
   "metadata": {},
   "outputs": [
    {
     "name": "stdout",
     "output_type": "stream",
     "text": [
      "Using real-time data augmentation.\n",
      "WARNING:tensorflow:From <ipython-input-9-421a417ea87c>:45: Model.fit_generator (from tensorflow.python.keras.engine.training) is deprecated and will be removed in a future version.\n",
      "Instructions for updating:\n",
      "Please use Model.fit, which supports generators.\n",
      "Epoch 1/50\n",
      "1563/1563 [==============================] - 107s 68ms/step - loss: 1.8807 - accuracy: 0.3082 - val_loss: 1.6395 - val_accuracy: 0.4104\n",
      "Epoch 2/50\n",
      "1563/1563 [==============================] - 106s 68ms/step - loss: 1.6034 - accuracy: 0.4133 - val_loss: 1.4959 - val_accuracy: 0.4562\n",
      "Epoch 3/50\n",
      "1563/1563 [==============================] - 109s 69ms/step - loss: 1.4778 - accuracy: 0.4633 - val_loss: 1.3141 - val_accuracy: 0.5284\n",
      "Epoch 4/50\n",
      "1563/1563 [==============================] - 108s 69ms/step - loss: 1.3864 - accuracy: 0.5022 - val_loss: 1.2463 - val_accuracy: 0.5553\n",
      "Epoch 5/50\n",
      "1563/1563 [==============================] - 109s 69ms/step - loss: 1.3192 - accuracy: 0.5285 - val_loss: 1.1531 - val_accuracy: 0.5895\n",
      "Epoch 6/50\n",
      "1563/1563 [==============================] - 108s 69ms/step - loss: 1.2611 - accuracy: 0.5522 - val_loss: 1.1436 - val_accuracy: 0.5938\n",
      "Epoch 7/50\n",
      "1563/1563 [==============================] - 109s 70ms/step - loss: 1.2090 - accuracy: 0.5703 - val_loss: 1.0754 - val_accuracy: 0.6191\n",
      "Epoch 8/50\n",
      "1563/1563 [==============================] - 110s 70ms/step - loss: 1.1728 - accuracy: 0.5836 - val_loss: 1.0549 - val_accuracy: 0.6271\n",
      "Epoch 9/50\n",
      "1563/1563 [==============================] - 109s 70ms/step - loss: 1.1339 - accuracy: 0.5984 - val_loss: 1.0148 - val_accuracy: 0.6410\n",
      "Epoch 10/50\n",
      "1563/1563 [==============================] - 110s 70ms/step - loss: 1.1014 - accuracy: 0.6085 - val_loss: 1.0144 - val_accuracy: 0.6419\n",
      "Epoch 11/50\n",
      "1563/1563 [==============================] - 109s 70ms/step - loss: 1.0760 - accuracy: 0.6188 - val_loss: 0.9574 - val_accuracy: 0.6605\n",
      "Epoch 12/50\n",
      "1563/1563 [==============================] - 109s 70ms/step - loss: 1.0586 - accuracy: 0.6263 - val_loss: 0.9128 - val_accuracy: 0.6749\n",
      "Epoch 13/50\n",
      "1563/1563 [==============================] - 111s 71ms/step - loss: 1.0342 - accuracy: 0.6340 - val_loss: 0.8891 - val_accuracy: 0.6867\n",
      "Epoch 14/50\n",
      "1563/1563 [==============================] - 110s 70ms/step - loss: 1.0150 - accuracy: 0.6422 - val_loss: 0.8753 - val_accuracy: 0.6956\n",
      "Epoch 15/50\n",
      "1563/1563 [==============================] - 111s 71ms/step - loss: 0.9986 - accuracy: 0.6478 - val_loss: 0.8702 - val_accuracy: 0.6913\n",
      "Epoch 16/50\n",
      "1563/1563 [==============================] - 110s 71ms/step - loss: 0.9771 - accuracy: 0.6571 - val_loss: 0.9219 - val_accuracy: 0.6774\n",
      "Epoch 17/50\n",
      "1563/1563 [==============================] - 111s 71ms/step - loss: 0.9655 - accuracy: 0.6597 - val_loss: 0.8441 - val_accuracy: 0.7062\n",
      "Epoch 18/50\n",
      "1563/1563 [==============================] - 111s 71ms/step - loss: 0.9478 - accuracy: 0.6689 - val_loss: 0.8869 - val_accuracy: 0.6900\n",
      "Epoch 19/50\n",
      "1563/1563 [==============================] - 111s 71ms/step - loss: 0.9412 - accuracy: 0.6686 - val_loss: 0.8528 - val_accuracy: 0.7071\n",
      "Epoch 20/50\n",
      "1563/1563 [==============================] - 111s 71ms/step - loss: 0.9283 - accuracy: 0.6743 - val_loss: 0.8205 - val_accuracy: 0.7159\n",
      "Epoch 21/50\n",
      "1563/1563 [==============================] - 112s 72ms/step - loss: 0.9189 - accuracy: 0.6812 - val_loss: 0.8795 - val_accuracy: 0.6965\n",
      "Epoch 22/50\n",
      "1563/1563 [==============================] - 112s 71ms/step - loss: 0.9113 - accuracy: 0.6793 - val_loss: 0.8387 - val_accuracy: 0.7114\n",
      "Epoch 23/50\n",
      "1563/1563 [==============================] - 112s 71ms/step - loss: 0.9008 - accuracy: 0.6866 - val_loss: 0.7748 - val_accuracy: 0.7334\n",
      "Epoch 24/50\n",
      "1563/1563 [==============================] - 112s 71ms/step - loss: 0.8983 - accuracy: 0.6900 - val_loss: 0.8490 - val_accuracy: 0.7047\n",
      "Epoch 25/50\n",
      "1563/1563 [==============================] - 112s 72ms/step - loss: 0.8881 - accuracy: 0.6909 - val_loss: 0.8076 - val_accuracy: 0.7227\n",
      "Epoch 26/50\n",
      "1563/1563 [==============================] - 112s 72ms/step - loss: 0.8785 - accuracy: 0.6974 - val_loss: 0.8162 - val_accuracy: 0.7304\n",
      "Epoch 27/50\n",
      "1563/1563 [==============================] - 114s 73ms/step - loss: 0.8702 - accuracy: 0.6997 - val_loss: 0.7790 - val_accuracy: 0.7291\n",
      "Epoch 28/50\n",
      "1563/1563 [==============================] - 114s 73ms/step - loss: 0.8668 - accuracy: 0.7016 - val_loss: 0.7427 - val_accuracy: 0.7493\n",
      "Epoch 29/50\n",
      "1563/1563 [==============================] - 112s 72ms/step - loss: 0.8586 - accuracy: 0.7064 - val_loss: 0.7586 - val_accuracy: 0.7354\n",
      "Epoch 30/50\n",
      "1563/1563 [==============================] - 113s 72ms/step - loss: 0.8612 - accuracy: 0.7022 - val_loss: 0.7479 - val_accuracy: 0.7430\n",
      "Epoch 31/50\n",
      "1563/1563 [==============================] - 112s 72ms/step - loss: 0.8553 - accuracy: 0.7057 - val_loss: 0.7397 - val_accuracy: 0.7537\n",
      "Epoch 32/50\n",
      "1563/1563 [==============================] - 112s 71ms/step - loss: 0.8522 - accuracy: 0.7065 - val_loss: 0.7534 - val_accuracy: 0.7418\n",
      "Epoch 33/50\n",
      "1563/1563 [==============================] - 111s 71ms/step - loss: 0.8487 - accuracy: 0.7076 - val_loss: 0.7290 - val_accuracy: 0.7541\n",
      "Epoch 34/50\n",
      "1563/1563 [==============================] - 111s 71ms/step - loss: 0.8458 - accuracy: 0.7114 - val_loss: 0.7463 - val_accuracy: 0.7445\n",
      "Epoch 35/50\n",
      "1563/1563 [==============================] - 109s 70ms/step - loss: 0.8377 - accuracy: 0.7133 - val_loss: 0.7521 - val_accuracy: 0.7418\n",
      "Epoch 36/50\n",
      "1563/1563 [==============================] - 110s 70ms/step - loss: 0.8378 - accuracy: 0.7129 - val_loss: 0.7506 - val_accuracy: 0.7400\n",
      "Epoch 37/50\n",
      "1563/1563 [==============================] - 114s 73ms/step - loss: 0.8312 - accuracy: 0.7171 - val_loss: 0.7577 - val_accuracy: 0.7424\n",
      "Epoch 38/50\n",
      "1563/1563 [==============================] - 110s 71ms/step - loss: 0.8299 - accuracy: 0.7176 - val_loss: 0.7556 - val_accuracy: 0.7444\n",
      "Epoch 39/50\n",
      "1563/1563 [==============================] - 111s 71ms/step - loss: 0.8285 - accuracy: 0.7174 - val_loss: 0.7288 - val_accuracy: 0.7554\n",
      "Epoch 40/50\n",
      "1563/1563 [==============================] - 111s 71ms/step - loss: 0.8241 - accuracy: 0.7188 - val_loss: 0.7429 - val_accuracy: 0.7572\n",
      "Epoch 41/50\n",
      "1563/1563 [==============================] - 112s 71ms/step - loss: 0.8234 - accuracy: 0.7194 - val_loss: 0.6982 - val_accuracy: 0.7640\n",
      "Epoch 42/50\n",
      "1563/1563 [==============================] - 112s 71ms/step - loss: 0.8198 - accuracy: 0.7202 - val_loss: 0.7095 - val_accuracy: 0.7620\n",
      "Epoch 43/50\n",
      "1563/1563 [==============================] - 112s 71ms/step - loss: 0.8149 - accuracy: 0.7239 - val_loss: 0.7480 - val_accuracy: 0.7496\n",
      "Epoch 44/50\n",
      "1563/1563 [==============================] - 114s 73ms/step - loss: 0.8149 - accuracy: 0.7217 - val_loss: 0.7794 - val_accuracy: 0.7384\n",
      "Epoch 45/50\n",
      "1563/1563 [==============================] - 109s 70ms/step - loss: 0.8111 - accuracy: 0.7269 - val_loss: 0.6817 - val_accuracy: 0.7679\n",
      "Epoch 46/50\n",
      "1563/1563 [==============================] - 113s 73ms/step - loss: 0.8113 - accuracy: 0.7260 - val_loss: 0.7544 - val_accuracy: 0.7495\n",
      "Epoch 47/50\n",
      "1563/1563 [==============================] - 110s 70ms/step - loss: 0.8113 - accuracy: 0.7229 - val_loss: 0.7423 - val_accuracy: 0.7532\n",
      "Epoch 48/50\n",
      "1563/1563 [==============================] - 110s 70ms/step - loss: 0.8048 - accuracy: 0.7269 - val_loss: 0.7378 - val_accuracy: 0.7541\n",
      "Epoch 49/50\n",
      "1563/1563 [==============================] - 110s 70ms/step - loss: 0.7986 - accuracy: 0.7295 - val_loss: 0.7661 - val_accuracy: 0.7407\n",
      "Epoch 50/50\n",
      "1563/1563 [==============================] - 110s 71ms/step - loss: 0.8043 - accuracy: 0.7274 - val_loss: 0.7168 - val_accuracy: 0.7549\n"
     ]
    }
   ],
   "source": [
    "if not data_augmentation:\n",
    "    print('Not using data augmentation.')\n",
    "    model.fit(x_train, y_train,\n",
    "              batch_size=batch_size,\n",
    "              epochs=epochs,\n",
    "              validation_data=(x_test, y_test),\n",
    "              shuffle=True)\n",
    "else:\n",
    "    print('Using real-time data augmentation.')\n",
    "    # 这一步将进行数据处理和实时数据增益。data augmentation:\n",
    "    datagen = ImageDataGenerator(\n",
    "        featurewise_center=False,  # 将整个数据集的均值设为0\n",
    "        samplewise_center=False,  # 将每个样本的均值设为0\n",
    "        featurewise_std_normalization=False,  # 将输入除以整个数据集的标准差\n",
    "        samplewise_std_normalization=False,  # 将输入除以其标准差\n",
    "        zca_whitening=False,  # 运用 ZCA 白化\n",
    "        zca_epsilon=1e-06,  # ZCA 白化的 epsilon值\n",
    "        rotation_range=0,  # 随机旋转图像范围 (角度, 0 to 180)\n",
    "        # 随机水平移动图像 (总宽度的百分比)\n",
    "        width_shift_range=0.1,\n",
    "        # 随机垂直移动图像 (总高度的百分比)\n",
    "        height_shift_range=0.1,\n",
    "        shear_range=0.,  # 设置随机裁剪范围\n",
    "        zoom_range=0.,  # 设置随机放大范围\n",
    "        channel_shift_range=0.,  # 设置随机通道切换的范围\n",
    "        # 设置填充输入边界之外的点的模式\n",
    "        fill_mode='nearest',\n",
    "        cval=0.,  # 在 fill_mode = \"constant\" 时使用的值\n",
    "        horizontal_flip=True,  # 随机水平翻转图像\n",
    "        vertical_flip=False,  # 随机垂直翻转图像\n",
    "        # 设置缩放因子 (在其他转换之前使用)\n",
    "        rescale=None,\n",
    "        # 设置将应用于每一个输入的函数\n",
    "        preprocessing_function=None,\n",
    "        # 图像数据格式，\"channels_first\" 或 \"channels_last\" 之一\n",
    "        data_format=None,\n",
    "        # 保留用于验证的图像比例（严格在0和1之间）\n",
    "        validation_split=0.0)\n",
    "\n",
    "    # 计算特征标准化所需的计算量\n",
    "    # (如果应用 ZCA 白化，则为 std，mean和主成分).\n",
    "    datagen.fit(x_train)\n",
    "\n",
    "    # 利用由 datagen.flow() 生成的批来训练模型\n",
    "    model.fit_generator(datagen.flow(x_train, y_train,\n",
    "                                     batch_size=batch_size),\n",
    "                        epochs=epochs,\n",
    "                        validation_data=(x_test, y_test),\n",
    "                        workers=4)"
   ]
  },
  {
   "cell_type": "code",
   "execution_count": 10,
   "id": "worth-chrome",
   "metadata": {},
   "outputs": [
    {
     "name": "stdout",
     "output_type": "stream",
     "text": [
      "313/313 [==============================] - 4s 13ms/step - loss: 0.7168 - accuracy: 0.7549\n",
      "loss: 0.7168346047401428\n",
      "accu: 0.7548999786376953\n"
     ]
    }
   ],
   "source": [
    "score = model.evaluate(x_test,y_test)\n",
    "# 保存模型\n",
    "model.save(model_name)  # creates a HDF5 file 'my_model.h5'\n",
    "print(\"loss:\",score[0])\n",
    "print(\"accu:\",score[1])"
   ]
  },
  {
   "cell_type": "code",
   "execution_count": null,
   "id": "outstanding-reform",
   "metadata": {},
   "outputs": [],
   "source": []
  }
 ],
 "metadata": {
  "kernelspec": {
   "display_name": "Python 3",
   "language": "python",
   "name": "python3"
  },
  "language_info": {
   "codemirror_mode": {
    "name": "ipython",
    "version": 3
   },
   "file_extension": ".py",
   "mimetype": "text/x-python",
   "name": "python",
   "nbconvert_exporter": "python",
   "pygments_lexer": "ipython3",
   "version": "3.8.8"
  }
 },
 "nbformat": 4,
 "nbformat_minor": 5
}
